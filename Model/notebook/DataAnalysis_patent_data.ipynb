{
 "cells": [
  {
   "cell_type": "code",
   "execution_count": 1,
   "metadata": {},
   "outputs": [
    {
     "name": "stdout",
     "output_type": "stream",
     "text": [
      "PyTorch version: 2.0.1+cu118\n",
      "**********\n",
      "_CUDA version: \n",
      "nvcc: NVIDIA (R) Cuda compiler driver\n",
      "Copyright (c) 2005-2022 NVIDIA Corporation\n",
      "Built on Tue_May__3_19:00:59_Pacific_Daylight_Time_2022\n",
      "Cuda compilation tools, release 11.7, V11.7.64\n",
      "Build cuda_11.7.r11.7/compiler.31294372_0\n",
      "**********\n",
      "CUDNN version: 8700\n",
      "Available GPU devices: 1\n",
      "Device Name: NVIDIA GeForce GTX 1650\n"
     ]
    }
   ],
   "source": [
    "import torch\n",
    "\n",
    "print(f'PyTorch version: {torch.__version__}')\n",
    "print('*'*10)\n",
    "print(f'_CUDA version: ')\n",
    "!nvcc --version\n",
    "print('*'*10)\n",
    "print(f'CUDNN version: {torch.backends.cudnn.version()}')\n",
    "print(f'Available GPU devices: {torch.cuda.device_count()}')\n",
    "print(f'Device Name: {torch.cuda.get_device_name()}')"
   ]
  },
  {
   "cell_type": "code",
   "execution_count": 12,
   "metadata": {},
   "outputs": [],
   "source": [
    "#Loading data in Pandas\n",
    "import pandas as pd\n",
    "d1 = pd.read_csv(\"train_patent.csv\")"
   ]
  },
  {
   "cell_type": "code",
   "execution_count": 13,
   "metadata": {},
   "outputs": [],
   "source": [
    "import re\n",
    "\n",
    "def remove_sentence_with_fig(paragraph):\n",
    "\n",
    "\n",
    "    # first we remove . after FIG\n",
    "    paragraph = re.sub(r\"FIG.\",\"FIG\",paragraph)\n",
    "\n",
    "    # Split the paragraph into sentences\n",
    "    sentences = re.split(r'(?<=[.!?])\\s+', paragraph)\n",
    "\n",
    "    # Remove sentences containing \"FIG.\"\n",
    "    filtered_sentences = [sentence for sentence in sentences if \"FIG\" not in sentence]\n",
    "\n",
    "    # Join the remaining sentences to form the updated paragraph\n",
    "    updated_paragraph = ' '.join(filtered_sentences)\n",
    "\n",
    "    return updated_paragraph\n",
    "\n",
    "def clean_text(text):\n",
    "\n",
    "    # replace ° degree with \n",
    "    text = re.sub(r\"°\", \" degree\", text)\n",
    "\n",
    "    # replace US Patent\n",
    "    text = re.sub(r\" U.S. Pat. No. [0-9,]+\", \"Patent\", text)\n",
    "\n",
    "    # replace semi-colon with full-stop\n",
    "    text = re.sub(r\";\", \".\", text)\n",
    "\t\n",
    "    # Remove special characters and symbols\n",
    "    text = re.sub(r\"[^a-zA-Z0-9\\s.:]\", \"\", text)\n",
    "    \n",
    "    # Normalize whitespace\n",
    "    text = re.sub(r\"\\s+\", \" \", text)\n",
    "    \n",
    "    text = text.strip()\n",
    "\n",
    "    text = remove_sentence_with_fig(text)\n",
    "    \n",
    "    return text\n"
   ]
  },
  {
   "cell_type": "code",
   "execution_count": 14,
   "metadata": {},
   "outputs": [],
   "source": [
    "#Applying on text column\n",
    "#Applying Clearning functions oon Dataframe\n",
    "d1[\"text\"] = d1[\"text\"].apply(clean_text)"
   ]
  },
  {
   "cell_type": "code",
   "execution_count": 16,
   "metadata": {},
   "outputs": [],
   "source": [
    "# Loading the dataset from dataframe\n",
    "from datasets import Dataset\n",
    "dataset = Dataset.from_pandas(d1)\n"
   ]
  },
  {
   "cell_type": "code",
   "execution_count": 17,
   "metadata": {},
   "outputs": [
    {
     "name": "stdout",
     "output_type": "stream",
     "text": [
      "Dataset({\n",
      "    features: ['text', 'summary'],\n",
      "    num_rows: 800\n",
      "})\n"
     ]
    }
   ],
   "source": [
    "print(dataset)"
   ]
  },
  {
   "cell_type": "code",
   "execution_count": 18,
   "metadata": {},
   "outputs": [],
   "source": [
    "# # Loading Local Data\n",
    "# from datasets import load_dataset\n",
    "# dataset = load_dataset(\"csv\", data_files=\"../data/train_patent.csv\")"
   ]
  },
  {
   "cell_type": "code",
   "execution_count": 20,
   "metadata": {},
   "outputs": [],
   "source": [
    "dataset1 = dataset.train_test_split(test_size=0.2)"
   ]
  },
  {
   "cell_type": "code",
   "execution_count": 21,
   "metadata": {},
   "outputs": [
    {
     "data": {
      "text/plain": [
       "DatasetDict({\n",
       "    train: Dataset({\n",
       "        features: ['text', 'summary'],\n",
       "        num_rows: 640\n",
       "    })\n",
       "    test: Dataset({\n",
       "        features: ['text', 'summary'],\n",
       "        num_rows: 160\n",
       "    })\n",
       "})"
      ]
     },
     "execution_count": 21,
     "metadata": {},
     "output_type": "execute_result"
    }
   ],
   "source": [
    "dataset1"
   ]
  },
  {
   "cell_type": "code",
   "execution_count": 22,
   "metadata": {},
   "outputs": [
    {
     "data": {
      "text/plain": [
       "Dataset({\n",
       "    features: ['text', 'summary'],\n",
       "    num_rows: 640\n",
       "})"
      ]
     },
     "execution_count": 22,
     "metadata": {},
     "output_type": "execute_result"
    }
   ],
   "source": [
    "dataset1[\"train\"]"
   ]
  },
  {
   "cell_type": "code",
   "execution_count": 23,
   "metadata": {},
   "outputs": [],
   "source": [
    "import datasets\n",
    "import random\n",
    "import pandas as pd\n",
    "from IPython.display import display, HTML\n",
    "\n",
    "def show_random_elements(dataset, num_examples=5):\n",
    "    assert num_examples <= len(dataset), \"Can't pick more elements than there are in the dataset.\"\n",
    "    picks = []\n",
    "    for _ in range(num_examples):\n",
    "        pick = random.randint(0, len(dataset)-1)\n",
    "        while pick in picks:\n",
    "            pick = random.randint(0, len(dataset)-1)\n",
    "        picks.append(pick)\n",
    "    \n",
    "    df = pd.DataFrame(dataset[picks])\n",
    "    for column, typ in dataset.features.items():\n",
    "        if isinstance(typ, datasets.ClassLabel):\n",
    "            df[column] = df[column].transform(lambda i: typ.names[i])\n",
    "    display(HTML(df.to_html()))"
   ]
  },
  {
   "cell_type": "code",
   "execution_count": 24,
   "metadata": {},
   "outputs": [
    {
     "data": {
      "text/html": [
       "<table border=\"1\" class=\"dataframe\">\n",
       "  <thead>\n",
       "    <tr style=\"text-align: right;\">\n",
       "      <th></th>\n",
       "      <th>text</th>\n",
       "      <th>summary</th>\n",
       "    </tr>\n",
       "  </thead>\n",
       "  <tbody>\n",
       "    <tr>\n",
       "      <th>0</th>\n",
       "      <td>as shown in the exemplary drawings the present invention may be embodied in various ways . where common elements occur in more than one embodiment the same reference numerals will be used . referring to fig1 depicting one preferred embodiment apparatus 10 of a composite design similar to that of an umbrella for expanding a restraining sheath is shown . the restraining sheath is omitted for clarity . a stent delivery catheter 12 is coaxially positioned within apparatus 10 . expansion of the restraining sheath is accomplished by mechanically pushing the sheath via expansion of expandable cage 14 . the cage 14 consists of spines 16 each of which have bend 18 . the spines 16 are secured by fixed support ring 20 at the proximal end of spines 16 . a distal end of control wire 22 is fixed to collar 24 that is slidably mounted about the delivery catheter . the cage is expanded by pulling the collar proximally via the control wire which causes secondary spines 26 see fig2 to press against the larger spines 16 . one end of each secondary spine 26 is pivotally secured to collar 24 . the opposing end of each secondary spine 26 is pivotally secured to larger spine 16 . likewise the proximal end of each larger spine 16 is pivotally secured to the fixed control ring 20 . as a result cage 14 pushes outwardly on the sheath membrane and the sheath thus expands at a distal end and forms a catch basin . in another preferred embodiment apparatus 30 provides expansion for the sheath membrane omitted for clarity as shown in fig3 . a plurality of spines 32 project distally and function to support the sheath . the spines 32 are pivotally secured at their proximal ends to stent delivery catheter 12 . wedge 15 is slidably mounted on the stent delivery catheter and may be moved axially relative to the catheter and spines 32 by a control wire omitted for clarity or other means . as shown in fig4 when wedge 15 is moved proximally relative to the spines the wedge forces the spines to protrude outwardly in a radial direction . fig5 depicts the spines in a fully expanded position . the wedge has been moved as far as possible in a proximal direction . as shown in fig6 apparatus 40 for expanding the sheath membrane omitted for clarity provides yet another preferred embodiment . a plurality of bent wires 42 are restrained in a straightened position by fixed restraint ring 44 at a proximal end of apparatus 40 and slidably mounted restraint ring 46 at a distal end of the apparatus . the slidably mounted restraint ring is initially positioned at the distal ends of wires 42 . catheter 12 is coaxially positioned within wires 42 and rings 44 46 . a second control wire 48 is attached to the slidably mounted restraint ring . referring to fig7 the slidably mounted restraint ring 46 has been moved proximally via the second control wire . the wires 42 have thus been released and have sprung into their resting bent positions . this action serves to fully expand a restraining sheath . turning to fig8 restraining sheath 50 is depicted and is supported by spines 52 or alternatively wires . the restraining sheath in a closed position may consist of folds 54 . an alternative to providing folds 54 is to construct a restraining sheath of a material that is capable of being stretched in a radial direction . this alternative would require less material but would require more force to expand the material in a radial direction than would be required if folds were implemented . a restraining sheath may be formed from a material selected from the group of materials consisting of polyethylene polyester and polyamide . the material which has a low coefficient of friction may be obtained in varying grades of softness . as shown in fig9 restraining sheath 56 may be expanded by apparatus 30 of fig3 such that the diameter at the distal end is larger than the diameter at the proximal end . turning to fig1 restraining sheath 58 may be expanded by the apparatus of fig6 such that the diameter at the distal end is larger than the diameter at the proximal end . the sheath design provides optimal deployment of the self expanding stent because the sheath both expands in a radial direction and retracts in a proximal direction simultaneously . therefore due to the angle of incidence created between the sheath and the stent during deployment there is a low coefficient of friction between the sheath and the stent . this is an ideal configuration for recapturing a partially deployed stent because contact is constantly maintained between the sheath and the undeployed part of the stent . turning to fig1 13 in a preferred method a desired site within vessel 60 is first accessed with the system via a percutaneous technique . a stent delivery catheter 62 has its proximal end open to atmospheric pressure and its distal end running into the proximal end of restraining sheath 64 . self expanding stent 66 is initially in a collapsed state and partially disposed within the restraining sheath . the restraining sheath 64 is attached to and deployed by an apparatus such as the apparatus 40 shown in fig6 8 . a plurality of bent wires 42 are restrained in a straightened position by a fixed restraint ring 44 at the proximal end of the apparatus 40 and a slidably mounted restraint ring 64 near the distal end of the apparatus . a control wire not shown or other means for moving the restraint ring 46 can be attached to the slidable mounted restraint ring 46 to enable the plurality of bent wires 42 to be deployed . as the bent wires 42 are deployed the restraining sheath 64 is in turn deployed within the patient 39 . s vasculature . the restraining sheath is then deployed and as it expands forms occlusive conical member 68 or catch basin at the proximal end of the stent . the stent being of the self expanding type is automatically deployed as the restraining sheath expands . a temporary seal is created between the stent and the restraining sheath . the outer edge of the distal end of restraining sheath 64 may include a material consisting of soft plastic rubber or a gel in order to ensure a proper seal between the sheath and the stent . therefore unlike the situation where a balloon exerts pressure on a vessel wall to cause a seal in the present invention vessel damage is minimized . as is shown in fig1 when the restraining sheath 64 is expanded by the outward movement of the wires 42 it also is simultaneously retracted back to allow a portion of the self expanding stent 66 to expand and contract a portion of the stenosis 80 formed in the vessel 60 . the self expanding stent 60 will begin to expand and contact more area of the stenosis 80 as the restraining sheath 64 is retracted via the action of the wires 42 . it also should be appreciated that the delivery catheter 62 may have to be retracted back away from the stenosis 80 as is shown in fig1 to allow the entire self expanding stent 66 to be deployed across the stenosis 80 since the length of retraction of the restraining sheath 64 may be somewhat limited by the action of the particular apparatus used to expand and retract the sheath 64 . a filter 70 for trapping and retaining embolic material or particles 72 is located within the lumen of the stent delivery catheter and relative to restraining sheath 64 such that the filter will trap any embolic material flowing into the restraining sheath . such filters are known in the art and may include a strainer device comprised of a plurality of wires . the filter may be located within the restraining sheath at the occlusion site in one embodiment . in another embodiment filter 70 may be located within the lumen of the stent delivery catheter 62 at a location outside of the restraining sheath 64 as shown in phantom in fig1 . in yet another preferred embodiment the filter may be placed within the lumen of the catheter at a location outside of the patient 39 . s body not shown . due to the occlusion of vessel 60 at the proximal end of stent 66 a pressure differential is created between the more distal arteries pressurized at blood pressure plus atmospheric pressure and a lumen of the stent delivery catheter pressurized at atmospheric pressure . therefore retrograde blood flow is induced and blood and embolic particles are flushed into filter 70 where the embolic particles are collected . an opening in the delivery catheter not shown distal to the filter provides an entrance to the lumen of the catheter which draws the embolic material into the opened restraining sheath 64 and into the filter 70 . turning to fig1 in another preferred embodiment an aspiration system consisting of vacuum device 74 with optional valve 76 may be included in the system if the occlusion is not adequate to induce sufficient retrograde blood flow or to ensure that the maximum number of embolic particles 72 are aspirated into filter 70 . alternatively in another embodiment an aspiration system consisting of a luer lock not shown capable of accepting a syringe may be used . the restraining sheath 64 is then collapsed to its original size thereby trapping any remaining embolic material or particles 72 . the restraining sheath 64 is collapsed by simply moving the slidable mounted restraint ring 46 distally to retract the plurality of bent wires 42 . the system is then removed from the patient . thus a self expanding stent is deployed safely and easily without the risk of embolic migration . while the invention has been illustrated and described herein in terms of its use as a safe and easy to use apparatus and method for treating blood vessels while minimizing the risk of embolic migration it will be apparent to those skilled in the art that the invention can be used in other instances . other modifications and improvements may be made without departing from the scope of the invention .</td>\n",
       "      <td>an apparatus and method for treating cerebral blood vessels such as carotid arteries . the system generally includes an apparatus and method for safely and easily deploying a self - expanding stent in a vessel while preventing embolic migration using a filter .</td>\n",
       "    </tr>\n",
       "    <tr>\n",
       "      <th>1</th>\n",
       "      <td>certain implementations disclosed herein provide for a manual wheelchair that allows for optimization of stability and shoulder biomechanics for individual wheelchair users . for example one apparatus disclosed herein provides a wheelchair having a drive wheel rotatable about a first axis of rotation a push rim rotatable about a second axis of rotation which is offset from the first axis of rotation and a transmission coupling the push rim to the drive wheel . additionally some implementations disclosed herein provide for a manual wheelchair that allows for the positioning of the push rim to allow transfer into and out of the wheelchair . for example one apparatus disclosed herein provides a wheelchair having a push rim repositioning mechanism that allows the push rim to be rotated between a propulsion position and a transfer position . after reading this description it will become apparent to one skilled in the art how to implement the invention in various alternative embodiments and alternative applications . however although various embodiments of the present invention will be described herein it is understood that these embodiments are presented by way of example only and not limitation . as such this detailed description of various alternative embodiments should not be construed to limit the scope or breadth of the present invention as set forth in the appended claims . fig4 a 4d are diagrams illustrating an example wheelchair with a push rim capable of being rotated backward and out of the way for transfers according to a first implementation of the present application . more specifically fig4 a illustrates the wheelchair with the push rim rotated forward into a propulsion position . further fig4 b illustrates an enlarged view of the push rim relocation mechanism in the propulsion position . further fig4 c illustrates the wheelchair with the push rim rotated backward into a transfer position . further fig4 d illustrates an enlarged view of the push rim relocation mechanism in the transfer position . in this implementation the wheelchair 400 includes a frame 405 a rotatable push rim 410 connected to the frame 405 and a drive wheel 420 connected to the frame 405 . the wheelchair 400 may also include caster wheels 440 located in front of the drive wheel 420 . the caster wheels 440 and the drive wheels 420 collectively form the base of support 435 of the wheelchair . in order to provide a stable ride for the user it may be preferable that caster wheels 440 and the drive wheels be positioned such that the user 39 . s center of gravity 430 is located directly above the base of support 435 rather than in front of or behind the base of support 435 . as shown in fig4 a 4d the axis of rotation 425 of the drive wheel 420 is offset from the axis of rotation 415 of the push rim . thus instead of being directly coupled to each other the push rim 410 and drive wheel 420 are connected by a transmission 460 . the transmission 460 may include a drive gear hub 450 coupled to drive wheel 420 a push rim gear hub 470 coupled to the push rim 410 and a chain or belt 490 connected to the drive gear hub 450 and the push rim gear hub 470 . thus de coupling the fore aft position of the push rims 410 and drive wheels 420 may allow a clinician to place the drive wheels 420 in their optimal position to provide a stable base of support 435 while still allowing the person to do wheelies if needed to go over curbs and other thresholds . also the position of the push rims 410 can be set to promote the best positioning of the wheelchair 400 user 39 . s shoulders . a potential aspect of this more forward positioning of the push rims 410 is a reduction in shoulder pain resulting from manual propulsion of the wheelchair . in other words de coupling of the push rims 410 and drive wheels 420 may allow the clinician to place the push rims 420 in front of the user 39 . s center of gravity 430 as shown in fig4 a 4d potentially improving mechanical efficiency without sacrificing wheelchair stability . additionally the use of the transmission 460 with the belts or chains 490 may allow the wheelchair to also incorporate into one or both of the drive gear hub 450 and the push rim gear hub 470 a multispeed fixed gear hub such as the sturmey archer s3x fixed gear hub . in such implementations the ability to switch to higher or lower speeds may allow the wheelchair user to go faster on smooth even terrain and to require less torque and forces on the shoulders to go up inclined terrain . additionally in some implementations the wheelchair 400 also includes a push rim repositioning member 480 that allows the push rim 410 to be repositioned to allow a user to transfer into and out of wheelchair 400 without having to lift himself over the push rim as shown in fig3 a and 3b above . in fig4 a 4d the repositioning member 480 is a swing arm rotatably mounted to the frame 405 and configured to rotate about the axis of rotation 425 of the drive train . as shown the push rim gear hub 470 and push rim 410 are located at a first end of the swing arm 480 and the drive wheel gear hub 450 is located at a second end of the swing arm 480 and the belt chain 490 extends along the length of the swing arm . as shown in fig4 a and 4b the swing arm 480 can be rotated forward to position the push rim 410 forward of a user 39 . s shoulders to allow the propulsion of the wheel chair by the user known as the propulsion position . as shown in fig4 c and 4d the swing arm 480 can be rotated backward to position the push rim 410 behind a user 39 . s shoulders to allow the user to transfer into and out of the wheelchair . additionally in some embodiment a locking mechanism 483 may be provided to releasably hold the push rim repositioning member 480 swing arm in the propulsion position shown in fig4 a and 4b . further a second locking mechanism 487 or hard stop may also be provided to releasably hold or limit the rearward rotation of the push rim repositioning member 480 swing arm in the transfer position shown in fig4 c and 4d . though various aspects of this embodiment are shown in the figures and discussed above implementations of this application are not limited to these aspects and alternative implementations are discussed below . fig5 a 5d are diagrams illustrating an example wheelchair with a push rim capable of being removed and placed out of the way for transfers according to a second implementation of the present application . more specifically fig5 a illustrates the wheelchair with the push rim attached to the wheelchair in a propulsion position . further fig5 b illustrates an enlarged view of the push rim relocation mechanism with the push rim attached in the propulsion position . further fig5 c illustrates the wheelchair with the push rim disconnected from the wheelchair and repositioned for a transfer . further fig5 d illustrates an enlarged view of the push rim removed for a transfer . as with the implementation discussed above in this implementation the wheelchair 500 includes a frame 505 a rotatable push rim 510 connected to the frame 505 and a drive wheel 520 connected to the frame 505 . the wheelchair 500 may also include caster wheels 540 located in front of the drive wheel 520 . again the caster wheels 540 and the drive wheels 520 collectively form the base of support 535 of the wheelchair . in order to provide a stable ride for the user it may be preferable that caster wheels 540 and the drive wheels be positioned such that the user 39 . s center of gravity 530 is located directly above the base of support 535 rather than in front of or behind the base of support 535 . as shown in fig5 a 5d the axis of rotation 525 of the drive wheel 520 is offset from the axis of rotation 515 of the push rim 510 . thus instead of being directly coupled to each other the push rim 510 and drive wheel 520 are connected by a transmission 560 . the transmission 560 may include a drive gear hub 550 coupled to drive wheel 520 a push rim gear hub 570 coupled to the push rim 510 and a chain or belt 590 connected to the drive gear hub 550 and the push rim gear hub 570 . again de coupling the fore aft position of the push rims 510 and drive wheels 520 may allow a clinician to place the drive wheels 520 in their optimal position to provide a stable base of support 535 while still allowing the person to do wheelies if needed to go over curbs and other thresholds . also the position of the push rims 510 can be set to promote the best positioning of the wheelchair 500 user 39 . s shoulders . a potential aspect of this more forward positioning of the push rims 510 is a reduction in shoulder pain resulting from manual propulsion of the wheelchair . in other words de coupling of the push rims 510 and drive wheels 520 may allow the clinician to place the push rims 520 in front of the user 39 . s center of gravity 530 as shown in fig5 a 5d potentially improving mechanical efficiency without sacrificing wheelchair stability . again the use of the transmission 560 with the belts or chains 590 may allow the wheelchair to also incorporate into either one or both of the drive gear hub 550 and the push rim gear hub 570 a multi speed fixed gear hub such as the sturmey archer s3x fixed gear hub for example . in such implementations the ability to switch to higher or lower speeds may allow the wheelchair user to go faster on smooth even terrain and to require less torque and forces on the shoulders to go up inclined terrain . additionally in some implementations the wheelchair 500 also includes a push rim repositioning member 580 that allows the push rim 510 to be repositioned to allow a user to transfer into and out of wheelchair 500 without having to lift himself over the push rim as shown in fig3 a and 3b above . in the implementation shown in fig5 a 5d the repositioning member 580 is release mechanism that allows the push rim 510 to be disconnected from the frame 505 . for example a quick release mechanism could be used to allow the push rim 510 to be removably attached to the frame 505 . as shown in fig5 a and 5b the release mechanism push rim repositioning member 580 holds the push rim 510 forward of a user 39 . s shoulders to allow propulsion of the wheelchair by the user known as the propulsion position . as shown in fig5 c and 5d the release mechanism push rim repositioning member 580 allows the push rim 510 to be disconnected from the frame 505 and once disconnected the push rim 510 can be placed behind a user 39 . s shoulders to allow the user to transfer into and out of the wheelchair . though various aspects of this embodiment are shown in the figures and discussed above implementations of this application are not limited to these aspects and alternative implementations are discussed below . fig6 is a block diagram illustrating an example transfer of a patient from a bed to a wheelchair according to an embodiment of the invention . by incorporating a push rim reposition member such as shown in the implementations of fig4 a 4d and fig5 a 5d the wheelchair 500 can now be placed directly next to the bed 600 or other transfer surface reducing the distance to transfer and also reducing the height to elevate the body since the user no longer needs to clear the wheel 520 or the push rim 510 or the combination . fig7 a 7b are diagrams illustrating an example wheelchair with a push rim capable of being rotated backward and out of the way for transfers according to a third implementation of the present application . more specifically fig7 a illustrates the wheelchair with the push rim to the wheelchair located in a propulsion position . further fig7 b illustrates the wheelchair with the push rim repositioned into a transfer position . this implementation shown in fig7 a and 7b may include features and elements similar to those discussed above with respect to the first and second implementations . thus redundant descriptions thereof may be omitted . as with the implementations discussed above in this implementation the wheelchair 700 includes a frame 705 a rotatable push rim 710 connected to the frame 705 and a drive wheel 720 connected to the frame 705 . the wheelchair 700 may also include caster wheels 740 located in front of the drive wheel 720 . as shown in fig7 a 7b the axis of rotation 725 of the drive wheel 720 is offset from the axis of rotation 715 of the push rim . thus instead of being directly coupled to each other the push rim 710 and drive wheel 720 are connected by a transmission not specifically labeled in fig7 a and 7b . individual components labeled . the transmission may include a drive gear hub 750 coupled to drive wheel 720 a push rim gear hub 770 coupled to the push rim 710 and a chain or belt 790 connected to the drive gear hub 750 and the push rim gear hub 770 . again de coupling the fore aft position of the push rims 710 and drive wheels 720 may allow a clinician to place the drive wheels 720 in their optimal position to provide a stable base of support while still allowing the person to do wheelies if needed to go over curbs and other thresholds . also the position of the push rims 710 can be set to promote the best positioning of the wheelchair 700 user 39 . s shoulders . a potential aspect of this more forward positioning of the push rims 710 is a reduction in shoulder pain resulting from manual propulsion of the wheelchair . in other words de coupling of the push rims 710 and drive wheels 720 may allow the clinician to place the push rims 720 in front of the user 39 . s center of gravity as shown in fig5 a 5d potentially improving mechanical efficiency without sacrificing wheelchair stability . again the use of the transmission with the belts or chains 790 may allow the wheelchair to also incorporate a multi speed fixed gear hub to provide the ability to switch to higher or lower speeds and thereby allow the wheelchair user to go faster on smooth even terrain and to require less torque and forces on the shoulders to go up inclined terrain . additionally in some implementations the wheelchair 700 also includes a push rim repositioning member 780 that allows the push rim 710 to be repositioned to allow a user to transfer into and out of wheelchair 700 without having to lift himself over the push rim as shown in fig3 a and 3b above . in fig7 a 7b the repositioning member 580 is a guide rail extending along the frame 705 that the push rim 710 can be slid along . thus the push rim 710 may be slidingly mounted to the guide rail push rim repositioning mechanism 780 and repositioned at different portions along the length of the guide rail push rim repositioning mechanism 780 . as shown in fig7 a the push rim 710 has been slid forward along the guide rail push rim repositioning mechanism 780 to be located forward of a user 39 . s shoulders to allow the propulsion of the wheel chair by the user known as the propulsion position . as shown in fig7 b the push rim 710 has been slid backward along the guide rail push rim repositioning mechanism 780 to be located behind or even with a user 39 . s shoulders to allow the user to transfer into and out of the wheelchair . additionally in some implementations a locking mechanism not shown may be provided to releasably hold the push rim 710 swing arm in the propulsion position located in front of the user 39 . s shoulders as shown in fig7 a . further a second locking mechanism not shown or hard stop may also be provided to releasably hold or limit the rearward movement of the push rim 710 in the transfer position shown in fig7 b . additionally in some embodiments the transmission of the wheel chair may also include an idler sprocket not shown which can be used to maintain a fixed tension in the belt or chain 790 . though various aspects of this embodiment are shown in the figures and discussed above implementations of this application are not limited to these aspects and alternative implementations are discussed below . fig8 illustrates the reachable workspace of a user 39 . s wrist for different shoulder ranges of motion laid over a diagram of an example related art wheelchair 800 and fig9 illustrates the reachable workspace of a user 39 . s wrist for different shoulder ranges of motion laid over a diagram of a wheelchair 900 according to an implementation of the present application . as discussed above a problem with conventional wheelchairs relates to the positioning of the drive wheel push rim assembly relative to the user 39 . s shoulders . rearward placement of the drive wheel push rim assembly can improve stability but such placement can require a user to continually reach backward with shoulder extension and sometimes shoulder abduction . use of the shoulders in excessive extension and in abduction are thought to be damaging for repeated use . also some users may have experienced reduced range of motion that can limit the propulsive force that can be generated by the user . fig8 and 9 illustrate a hypothetical user 39 . s range of motion laid over diagrams of a related art wheelchair 800 and a wheelchair 900 according to an implementation of the present application . specifically in fig8 and 9 regions 810 910 represent a user with a full range of motion regions 820 920 represent a user with a slightly reduced range of motion and regions 830 930 represent a reduced range of motion . as shown in fig8 in order to achieve and maximize the arc of propulsion by starting the application of torque at the upper surface of the push rim of the conventional wheel chair the user needs to take his shoulders into large angles of extension i . e . into region 810 . however by moving the push rims forward in an implementation according to the present application the user may be able to apply a maximum arc of propulsion with less shoulder extension i . e . outside region 910 and into regions 920 930 . in the implementations discussed above the push rim was shown being movable between a propulsion position and a transfer position . however implementations of the present invention need not have only two positions . instead a wheelchair according to the present application may include a push rim repositioning mechanism configured to allow customizable placement of the push rim based on a user 39 . s specific physical dimensions and or physical capabilities and or the activities that the patient is involved in . fig1 a 10c illustrate placement of a push rim at various positions along a wheelchair according to an implementation of the present application based on a user 39 . s range of motion . fig1 a illustrates the push rim 1010 of the wheelchair 1000 in position even with the user 39 . s shoulders 1015 . fig1 b illustrates the push rim 1010 of the wheelchair 1000 rotated forward by 15 degrees with respect to the user 39 . s shoulders 1015 . fig1 illustrates the push rim 1010 of the wheelchair 1000 rotated forward by 15 degrees with respect to the user 39 . s shoulders 1015 . those of skill in the art will appreciate that skilled persons can implement the described functionality in varying ways for particular applications but such implementation decisions should not be interpreted as causing a departure from the scope of the invention . also in the various embodiments described above the improvements to the push rim and drive wheels can be implements for a single side of the wheelchair or on both sides of the wheelchair . the above description of the disclosed embodiments is provided to enable any person skilled in the art to make or use the invention . various modifications to these embodiments will be readily apparent to those skilled in the art and the generic principles described herein can be applied to other embodiments without departing from the spirit or scope of the invention . thus it is to be understood that the description and drawings presented herein represent a presently preferred embodiment of the invention and are therefore representative of the subject matter which is broadly contemplated by the present invention . it is further understood that the scope of the present invention fully encompasses other embodiments that may become obvious to those skilled in the art and that the scope of the present invention is accordingly not limited .</td>\n",
       "      <td>a manual wheelchair including a collapsible frame having a first lateral member that is connected to first and second braces at their respective first ends . a drive wheel axel extends along a first axis of rotation and engages a drive wheel , the first brace , and a portion of a transmission . a push rim axel extends along a second axis of rotation and engages a push rim wheel , the second brace , and a portion of the transmission , which transmits rotation of the push rim to rotation of the drive wheel . the collapsible frame additionally includes a second lateral member that is connected to the first and second braces as their respective second ends . the first and second braces are configured to release the second lateral member to collapse the manual wheelchair .</td>\n",
       "    </tr>\n",
       "    <tr>\n",
       "      <th>2</th>\n",
       "      <td>as indicated above the present invention includes many different embodiments . in some embodiments the invention is directed to various designs of bifurcated stents their delivery systems and methods of use . in fig1 an embodiment of the invention is shown which comprises a bifurcated stent delivery system shown generally at 100 . system 100 includes a catheter 10 that is advanced to a bifurcation site 20 along a primary guide wire 12 and a secondary guide wire 14 . in use the primary guide wire 12 and secondary guide wire 14 are advanced into a body lumen or vessel an advanced into the primary vessel 22 . at the bifurcation site 20 the secondary guide wire 14 is directed into a secondary vessel 24 causing the guide wires 12 and 14 to diverge about the carina 26 . catheter 10 is advanced along the shared path of the guide wires 12 and 14 until it reaches the carina 26 . in order to accommodate the divergent path of the secondary guide wire 14 the catheter 10 includes a spilt area 30 where the secondary guide wire 14 exits the catheter 10 . the spilt area 30 is a gap between two portions of the outer housing 32 of the catheter 10 . the housing 32 may be characterized as a sheath sleeve sock or any other assembly suitable for retaining a stent in its collapsed state onto a stent receiving region of a catheter . some examples of such stent retaining devices are described in u . s . pat . no . 4 950 227 to savin et al . . u . s . pat . no . 5 403 341 to solar . u . s . pat . no . 5 108 416 to ryan et al . . u . s . pat . no . 5 968 069 to dusbabek et al . . u . s . pat . no . 6 068 634 to cornelius et al . . u . s . pat . nos . 5 571 168 . 5 733 267 . 5 772 669 . and 5 534 007 all of which are incorporated herein by reference in their entirety . in the embodiment shown in fig1 the housing 32 comprises a distal sleeve 34 and a proximal sleeve 36 . as is more clearly shown in fig2 sleeves 34 and 36 overlay a stent retaining region 38 of the catheter 10 . sleeves 34 and 36 may be self retracting or include one or more pullback mechanisms not shown such as are described in u . s . pat . nos . 5 571 135 and 5 445 646 both of which are incorporated herein by reference in their entirety . in fig1 the sleeves 34 and 36 overlay the bifurcated stent 50 shown in fig2 which is disposed about a stent retaining region 38 . stent retaining region 38 may include a balloon or other inflatable area for use in expanding and or seating stent 50 . stent 50 may be balloon expandable self expanding or a hybrid type stent . in the embodiments shown in fig2 4 the bifurcated stent 50 comprises a primary stent section 52 and a secondary stent section 54 . preferably both sections 52 and 54 are self expanding stent bodies though the individual stent sections may have different expansion characteristics as desired . in addition the sections 52 and 54 of the bifurcated stent 50 may be individual stent bodies that are separately advanced and deployed forming stent 50 once they are fully deployed or they may be integrally formed or otherwise connected prior to their deployment . in the embodiment shown in fig2 the housing portions or sleeves 34 and 36 have been withdrawn from about the bifurcated stent 50 . as the sleeves 34 and 36 are withdrawn from the primary stent section 52 will begin to radially expand in a center first manner through the split area 30 . when the sleeves 34 and 36 are fully withdrawn such as is shown in fig3 the primary stent section 52 is completely freed from the stent retaining region 38 . if the stent section 52 and 54 are not integral to each other or otherwise linked prior to delivery upon expansion of the primary section 52 the secondary section may be advanced along the secondary guide wire 14 and advanced to an opening 62 in the wall 64 of the primary stent section 52 . opening 62 may be any diameter or shape but preferably is sized to accommodate the outer diameter of the secondary stent section 54 as well as the inner diameter of the secondary vessel 24 . whether the secondary stent section 54 is engaged to the primary stent section 52 or separate therefrom prior to deployment when the secondary stent section 54 is in position at opening 62 and the primary section 52 has been expanded the secondary stent section 54 is then deployed into the secondary vessel 24 such as is shown in fig4 . the position of the stent 50 at the bifurcation site maybe visually established through the use of a radiopaque marker 90 discussed in greater detail below . in at least one embodiment where the secondary stent section 54 is at least partially constructed from a shape memory material such as nitinol the secondary stent section 54 will self expand according to a preprogrammed shape memory such that the section both radially and longitudinally expands into the secondary vessel 24 . in some embodiments catheter 10 may include a pusher assembly 70 that is advanced along the secondary guide wire 14 to trigger expansion of the secondary stent section 54 . pusher assembly 70 may provide a stimulus which causes the section 54 to expand . such a stimulus may be in the form of a simple mechanical engagement . delivery of an electrical current . or delivery of a predetermined temperature and or a predetermined ph such as by the release of a heated saline bolus . in some embodiments a separate balloon catheter or other inflation device may be advanced along the secondary guide wire 14 to fully expand and or seat the secondary stent section 54 . when both stent sections 52 and 54 are fully deployed such as is shown in fig5 the proximal end of the secondary stent section 54 is preferably engaged to the wall 64 of the primary stent section 52 . when fully deployed the primary stent section 52 defines a primary flow path 72 and the secondary stent section defines a secondary flow path 74 that is in fluid communication with the primary flow path via opening 62 . in an alternative embodiment of the invention such as is shown in fig6 system 100 may be provided with catheter 10 that is equipped with at least two balloons a primary balloon 80 and a secondary balloon 82 which may be utilized for expansion and or seating stent sections 52 and 54 . in the embodiment shown in fig6 the bifurcated stent 50 may be constructed from stainless steel or other material that necessitates or would benefit from balloon expansion . as with previous embodiments the catheter 10 includes a pair of guide wires 12 and 14 which are advanced to the bifurcation site 20 and which diverge at the carina 26 with the secondary guide wire 14 advancing into the secondary vessel 24 . in the embodiment shown in fig6 during most of the advancement of the catheter 10 the balloons 80 and 82 are positioned together in the substantially parallel orientation shown . however as the catheter 10 approaches the bifurcation site 20 the distal portion 86 of secondary balloon 82 and secondary stent section 54 are directed along the secondary guide wire 14 into the secondary vessel 24 as shown in fig9 . in order to ensure that the bifurcated stent will provide adequate support to the vessels 22 and 24 of the bifurcation site and particularly to the area of the carina 26 the catheter 10 may include a radiopaque marker 90 . marker 90 allows a practitioner to advance the catheter 10 to the bifurcation site 20 and visually determine through fluoroscopy or other means that the balloons 80 and 82 and stent sections 52 and 54 are properly positioned about the carina 26 . marker 90 may be constructed from any radiopaque material and is preferably part of the bifurcated stent 50 . once it is determined that the stent 50 is in proper position at the bifurcation site 20 the primary balloon 80 is inflated to expand the primary stent section 52 as shown in fig1 . after the initial expansion of the primary stent section 52 the secondary balloon 82 is inflated to initially expand the secondary stent 54 shown in fig1 . in some embodiments it may be preferable to first deflate the primary balloon 80 before inflating the secondary balloon 82 . in some embodiments where balloon 80 is deflated prior to inflation of balloon 82 balloon 80 may be subsequently inflated after inflation of balloon 82 to fully expand the stent and seat it in place within the bifurcation such as is shown in fig1 . alternatively balloons 80 and 82 may be inflated simultaneously . once both stent sections 52 and 54 are fully expanded the balloons 80 and 82 are deflated and with drawn from the bifurcation site 20 such as is depicted in fig1 because some bifurcated stents may be subject to distortion or damage when over expanded or subjected to high radially outward acting pressure in some embodiments such as shown in fig7 the proximal portion 88 of balloons 80 and 82 where both balloons are contained within the primary stent section 52 the catheter 10 may employ a circumferential band 92 that will limit the expandability of the proximal portion 88 of balloons 80 and 82 thereby preventing over inflation and over expansion of the primary stent portion 54 when both balloons are inflated . band 92 may be constructed from any minimally or non expandable material such as polyethyleneterephthalate pet or stainless steel . in some applications it may be beneficial or necessary to conduct an angioplasty procedure prior to insertion of the bifurcated stent 50 . as a result in at least one embodiment of the invention an example of which is shown in fig8 the catheter 10 may be equipped with a primary angioplasty balloon 94 and a secondary angioplasty balloon 96 . in practice balloons 94 and 96 may be initially advanced to the bifurcation site 20 along guide wires 12 and 14 respectively . upon reaching the bifurcation site 20 the balloons 94 and 96 may be inflated to reduce any stenosis or blockage 98 that may be present . after the blockage 98 is reduced the balloons 94 and 96 may be deflated and advanced along the guide wires 12 and 14 into the respective vessels 22 and 24 thereby allowing balloons 80 and 82 to be positioned at the bifurcation site 20 to delivery the bifurcated stent 50 . in the embodiments shown in fig6 13 the bifurcated stent 50 may be a single piece design where sections 52 and 54 are engaged to one another prior to and after delivery . or the stent 50 may be a two piece design where both sections 52 and 54 are independent stent bodies that are separate prior to delivery and which may continue to be separate or which may become engaged to one another during or after delivery . in embodiments where the stent 50 is a one piece design the stent sections may be engaged together by one or more linkage member 102 such as are shown in fig1 16 . in fig1 and 15 the sections 52 and 54 are connected by at least 4 linkage members 102 . in at least one embodiment the sections 52 and 54 are connected by at least 8 linkage members 102 . linkage members 102 may be characterized as struts or connecting members 104 that are shared between sections 52 and 54 . in a preferred embodiment the members 102 are selectively annealed to provide the bifurcated stent 50 with improved flexibility between sections 52 and 54 . by selectively annealing the members 102 the secondary stent section 52 may be articulated relative to the primary stent section 54 such that the bifurcated stent sections 52 and 54 may be provided with an angular relationship of about 90 degrees indicated at reference numeral 106 in fig1 or a more acute angle 108 shown in fig1 . by providing a bifurcated stent 50 that has sections 52 and 54 that may be oriented at a variety of angles a single stent may be used to address a variety of different angular relationships between vessels of various bifurcation sites within a body . preferably the angular relationship between sections 52 and 54 defines an angle of about 10 degrees to about 120 degrees . in at least one embodiment the linkage members 102 are provided with a curvilinear or s shaped configuration such as is best shown in fig1 . the s shape of the linkage members aids in providing the bifurcated stent 50 with the ability to articulate about vessel junctions of various angles . in at least one embodiment shown in fig1 the sections 52 and 54 of a bifurcated stent 50 are linked by a single linkage member 102 . when inserted at a bifurcation site 20 the single linkage member is positioned at the carina 26 and acts as a hinge to allow the sections 52 and 54 to be disposed about the carina 26 . in at least one embodiment of the invention shown in fig1 stent 50 includes a primary stent section 52 which does not extend distally beyond the carina 26 . as a result the stent 50 may be advanced and positioned at the bifurcation site 20 by a singe guide wire 14 which extends into the secondary branch 24 . use of a marker 90 allows a practitioner to position the stent 50 by abutting the marker adjacent to the carina 26 and deploying the stent as shown . the stent 50 may include sections that are either balloon expandable self expandable or hybrid expandable as desired . in the embodiment shown primary stent section 52 is balloon expandable and secondary stent section 54 is self expandable . in addition to being directed to the specific combinations of features claimed below the invention is also directed to embodiments having other combinations of the dependent features claimed below and other combinations of the features described above . the above disclosure is intended to be illustrative and not exhaustive . this description will suggest many variations and alternatives to one of ordinary skill in this art . all these alternatives and variations are intended to be included within the scope of the claims where the term comprising means including but not limited to . those familiar with the art may recognize other equivalents to the specific embodiments described herein which equivalents are also intended to be encompassed by the claims . further the particular features presented in the dependent claims can be combined with each other in other manners within the scope of the invention such that the invention should be recognized as also specifically directed to other embodiments having any other possible combination of the features of the dependent claims . for instance for purposes of claim publication any dependent claim which follows should be taken as alternatively written in a multiple dependent form from all prior claims which possess all antecedents referenced in such dependent claim if such multiple dependent format is an accepted format within the jurisdiction e . g . each claim depending directly from claim 1 should be alternatively taken as depending from all previous claims . in jurisdictions where multiple dependent claim formats are restricted the following dependent claims should each be also taken as alternatively written in each singly dependent claim format which creates a dependency from a prior antecedent possessing claim other than the specific claim listed in such dependent claim below .</td>\n",
       "      <td>a bifurcated stent includes a first stent section and a second stent section . the first stent section is balloon expandable , has an unexpanded configuration , an expanded configuration , and a tubular wall defining a secondary opening . the secondary stent section is self - expanding and an end of the secondary stent section is engaged to a portion of the tubular wall of the primary stent section defining the secondary opening . the secondary stent section has an unexpanded configuration with a first length and an expanded configuration with a second length where the first length is less than the second length . the secondary stent section is expanded to the expanded configuration after the primary stent section is expanded to the expanded configuration . the secondary stent section forms a portion of the tubular wall of the primary stent section in the unexpanded configuration .</td>\n",
       "    </tr>\n",
       "    <tr>\n",
       "      <th>3</th>\n",
       "      <td>for a number of food crop seeds the time required to hydrate the seeds such as prior to or during cooking may be exceptionally long . the process of the invention described herein significantly increases the rate of hydration of food crop seeds consequently reducing their associated cooking time . in contrast to previously described processes the process of this invention may be conducted as a dry process and does not require hydration cooking or heating . while the process is preferably used for the treatment of dehulled i . e . dehusked cultivated brown rice or wild rice particularly strains of oryza sativa l . and o . glaberrima steud . it may also be used for the treatment of other food seed crops of interest including but not limited to beans soybeans wheat oats and corn . as defined herein dehulled rice refers to a quantity of rice grains which have been dehulled to an extent such that more than or equal to 90 of the grains are dehulled . in the preferred embodiment more than or equal to about 99 of the rice grains are dehulled . dehulling may be conducted using conventional techniques . in a first embodiment the food crop seed described above is bombarded with a high velocity abrasive particulate which is propelled against the target seed under conditions and for a period of time effective to scarify the seed by creating microperforations i . e . nicks holes or cuts in the water resistant outer layer s . however the outer layer s are not abraded away but remain substantially intact on the seed . the second alternative embodiment is predicated upon the same principle although the roles of the bombarding material and the material impacted are reversed . in this second embodiment the seeds are propelled at a high velocity and directed against an abrasive surface effective for creating the microperforations in the water resistant layers upon impact therewith . in either of the first or second embodiments the bombarding particle i . e . the abrasive particulate or seed respectively are preferably propelled by entrainment in a high velocity gaseous flowstream . however the bombarding particles may also be propelled mechanically as described in greater detail hereinbelow . food crop seeds typically consist of an embryo and endosperm surrounded by one or more relatively tough water resistant layers the pericarp and the seed coat or testa . in rice the embryo and endosperm of the grain are surrounded in order from the outermost to innermost layers by the hull pericarp seed coat nucellus and aleurone . removal of the hull by dehulling exposes the brown rice also referred to as the caryopsis . the remaining outer four layers of the brown rice the pericarp seed coat nucellus and aleurone comprise the bran layers of the rice grain and are high in nutrients with the aleurone layer being particularly high in protein and lipid bodies . however the pericarp seed coat and nucellus which are collectively referred to as the caryopsis coat each contain a cuticle and are nearly impermeable to water when intact . in accordance with this invention exposure of dehulled brown rice or wild rice to the abrasive particulates produces microperforations through the pericarp which may also extend through one or more or all of the underlying layers of the caryopsis coat and the aleurone to expose the endosperm . however this treatment does not remove a substantial portion of the bran layers but rather the bran layers remain substantially defined herein as more than 50 by weight intact on the rice grains . in the preferred embodiment more than or equal to approximately 80 by weight of the bran layers remain on the treated rice grains . in other words the bran layers and particularly the aleurone layer remain on the rice grain . although the pericarp being the outermost layer may be partially abraded or eroded away a substantial portion thereof . as defined above remains on the grain . for treatment of other food crop seeds it is understood that the treatment of this invention may be effective for creating microperforations in the pericarp and or seed coat to the same extent . a variety of materials may be used herein as the abrasive particulate . suitable abrasive particulates should have sharp or angular edges or surfaces and are preferably harder than the seed being treated although softer particulates may be effective when propelled at higher velocities . the optimal particulate selected will therefore vary with the particular seed being treated and the treatment conditions particularly the velocity of the particle including the pressure or velocity of an entraining gas stream and may be readily selected by the skilled practitioner by routine experimentation . examples of abrasive particulates which may be used include but are not limited to silicas clays sand kaolinite plastics metals diatomaceous earth extruded or ground plant products such as wild rice chits rice hulls corn husks or nut shells and preferably particulate food grade materials such as parboiled rice flour spices salt sugar and cereal grain flour . the use of such food grade particulate materials is preferred to simplify or even obviate the need for further processing after the scarification to separate the abrasive particulate from the seed . use of sand or other non food grade particulates will generally require a subsequent washing or rinsing step to remove the particulate from the treated seed . the size of the abrasive particulate will also vary with the treatment conditions particle density and the type of seed . in general for any specific particulate the efficiency of the abrading or scarification is reduced when using very large sizes particularly those greater than about 200 increasing the treatment time necessary to achieve effective microperforation of the seeds . although particulates greater than 200 may be used even up to about 1 000 the efficiency of the process decreases significantly . conversely very small particulates i . e . less than 10 may lack sufficient mass to be effective under most conditions requiring exceptionally high velocities to effectively scarify the seeds . therefore suitable particulate sizes are typically greater than or equal to about 10 and less than or equal to about 1 000 and preferably between about 10 and 200 . in a preferred embodiment for the treatment of rice the particulate size will be between about 50 to 150 particularly between about 100 to 150 and most preferably between about 120 130 . the skilled practitioner will recognize that when using volumes of sand processed food particulates such as flour or other ground or extruded materials the size of individual particles within the volume are variable . for these particulates the sizes are typically expressed as a mesh size with the particles being capable of passing through an art recognized mesh size opening . consequently particles of sizes smaller than those described above as preferred or suitable may be present in the bombarding stream . nonetheless the mesh size will typically be selected such that the mesh opening substantially corresponds to or is slightly larger than the suitable or preferred particle sizes described herein . the apparatus used for the treatment of the seeds in accordance with this invention is not critical and any device capable of propelling the bombarding particle at a high velocity will be effective . preferred devices include those capable of producing high pressure or velocity gas streams with a particulate feed such that the particle may be entrained into the stream . without being limited thereto the gas streams may be generated using high pressure pumps blowers or fans . in a particularly preferred embodiment the treatment is typically effected using a conventional sandblaster directed at the seeds . the treatment conditions including entraining gas pressure or velocity and the duration of the treatment will vary with the seed being treated and the desired particulate and are selected to effectively scarify the seed without removing water resistant outer layers as described above . optimal conditions and time may be readily determined by the skilled practitioner . when using small highly abrasive particulates such as fine grain sand for bombarding seeds with relatively soft outer coats the gas pressure may need only be great enough to pick up and entrain the particulates in the gas stream to be effective . conversely the pressure should not be so high that the outer layers of the seeds are substantially or completely removed . the treatment of seeds such as beans which have harder coats may require higher pressure or velocity gas flowstreams . without being limited thereto suitable gas pressures of the sandblaster will therefore vary with the seed and particulate and may be between about 20 to 10 000 psig . for the treatment of rice and other relatively soft seeds the gas pressure of the sandblaster is preferably between about 20 to 200 psig more preferably between about 40 to 120 psig and particularly between about 60 to 80 psig . virtually any gas may be used for the entraining gas stream although air and particularly low humidity air are preferred . alternatively rather than entraining the particles in a high velocity or high pressure gas stream the particles may be mechanically propelled . the particular device selected is not critical and any device capable of propelling the particle abrasive particulate or seed as described above may be suitable for use herein . for instance suitable devices include but are not limited to high speed conveyor belts or wheels positioned to dispense the particles carried thereon toward the target rotating cylinders with pick up brushes or impellers effective for propelling the particles upon contact therewith and pairs of parallel closely spaced oppositely rotating cylinders having a particle feed into the space therebetween which space is selected to contact and promote passage and propulsion of particles at high velocity . in an optional yet preferred embodiment the seeds to be treated may be placed upon an inclined or rocking or vibrating support . alternatively an agitator or stirrer may be provided to mechanically move the seeds on the support . in this embodiment during treatment the seeds will therefore roll or move exposing different sides thereof to the abrasive particulates and therefore not limiting scarification to only one side of the seeds . use of screen or mesh supports having a mesh size sufficient to allow passage of the abrasive particulates but not the seeds are particularly preferred for ease of separation of the particulate from the seed . following treatment the scarified seeds may be further processed to remove the abrasive particulate therefrom . suitable methods include but are not limited to washing or rinsing with a liquid such as water or blowing with a gas stream . in an alternative embodiment the seed to be treated is propelled and directed against an abrasive surface under conditions and for a period of time effective for creating the microperforations in the water resistant outer coat of the seed . like the first embodiment the outer layer s of the seed are not abraded away but remain substantially intact upon the seeds above . the seeds may be propelled using the same techniques as described above although in the preferred embodiment the seeds are entrained in a high pressure or velocity gaseous flowstream . suitable velocities or pressures of the entraining gas flowstream may vary with different seeds although the minimum pressure or velocity will typically be somewhat higher than described in relation to the first embodiment in view of the greater size and mass of the seeds . however as described in the first embodiment optimal conditions including the pressure or velocity of the entraining gas flowstream and the abrasive surface may be readily determined by the skilled practitioner by routine experimentation . the equipment used for generation of the high pressure or velocity gas flowstream and bombarding the seeds upon the abrasive surface is not critical . as described above the generation of the high pressure or velocity flowstream may be effected for example with conventional high pressure pumps blowers or fans . the seed may be fed into a conduit duct or channel transporting the flowstream whereupon it may be directed at the abrasive surface . a variety of abrasive surfaces may also be used and include but are not limited to a surface having any of the above described abrasive particulates adhered thereon sandpaper or the surface itself may be constructed of an abrasive material such as conventional grinding or cutting blades . scarified seeds produced by any of the above mentioned processes are suitable for use as a fast hydrating or fast cooking food crop seed product . optionally the seeds may be further treated to improve appearance and or further decrease cooking times . for instance treated rice grains may be optionally shined by mechanical rubbing or oil treatment to improve appearance . the scarified rice may also be cooked in water and dried to produce an instant rice capable of cooking in even shorter times . cooking and drying techniques which are conventionally used to prepare various commercial quick cooking or instant rices are suitable for use herein . however the long soaking periods required in those conventional processes may now be omitted . the following example is intended only to further illustrate the invention and is not intended to limit the scope of the invention which is defined by the claims . long grain dehulled brown and wild rice was purchased from local stores . sand black and white salt and parboiled rice flour were bought through different sources for use as abrasive particulates in bombarding the rice . black sand was obtained in a coarse starblast and fine starblast xl grade from dupont . white sand was obtained from manley brothers in 70 and 120 average mesh size . flour salt was obtained from cargill salt co . which had an average particle size of about 120 mesh . this type of salt is cracked between drums and therefore has sharp edges . parboiled broken rice was obtained from riviana and passed twice through a pin mill to obtain similar particle size by feel . 120 gram samples of each of the above mentioned rice types were placed on a u . s . standard 12 mesh screen and placed below another 8 mesh screen . the screen size was selected so that rice would not fall through the bottom screen . air at high pressure approx . 90 psig carrying sand salt or parboiled rice flour at high velocity was directed towards the rice in the screen . the screen was held at an angle and agitated such that the exposure to the particles in the air and the turbulence resulting from the air pressure moved the rice grains in the inclined corner . thus all sides of the rice were randomly exposed to the particles . preliminary experiments were done with black sand . brown rice was exposed to coarse and fine grade dupont sand for 5 sec 10 sec 20 sec 30 sec 1 min 2 min and 4 min at approximately 90 psig . use of coarse grade sand required 1 min of exposure to the sandblasting to reduce the cook time of the brown rice to 15 min . in contrast only 20 sec of exposure to fine sand was necessary to achieve the same effect . without wishing to be bound by theory it is believed that the smaller particles of the fine sand can cut nick pit or indent the surface more effectively than coarser sand . unfortunately use of black sand imparted a greyish color to rice due to the interaction between some of the oil on the rice surface with the mineral in sand . white sand 120 mesh obtained from manley brothers was used to bombard the brown and wild rice for 15 sec and 30 sec and was found to be extremely effective in maintaining color and also improving rehydration and reducing cook time . again less exposure time was required for smaller particle size 120 mesh and 70 mesh sand was not as effective . sandblasting of the brown and the wild rice at 90 psig had noticeable marks on the rice grains and also appeared to remove a significant portion of the outer layer . we then hypothesized that if the air pressure was reduced to a point that it only resulted in nicks cuts pits and indentation but did not remove a substantial amount of the bran layers then we should not be able to observe nicks cuts pits and indentation to the outside by naked eye . we therefore used the 120 mesh white sand and reduced the air pressure to a point where it would start picking up the sand particle . this produced the desired effect without losing any of the bran layers . the treated product had the appearance of the untreated product to the naked eye . microperforations in the outer layers of the brown rice grains were only apparent upon microscopic examination while microperforations in the wild rice could only be seen by the naked eye with great difficulty . the process described above was repeated with salt and finely ground parboiled flour used as the abrasive . particulates for sandblasting rather than the white sand . use of these food grade particulates poses no residue problem . when salt and flour were used wild rice required more exposure time 1 1 . 5 min in comparison to brown rice 25 sec to effect suitable microperforation of the grains . it is understood that the foregoing detailed description is given merely by way of illustration and that in modifications and deviations may be made therein without departing from the spirit and scope of the invention .</td>\n",
       "      <td>a process for significantly increasing the rate of hydration of food crop seeds , such as brown and wild rice , without loss of the nutritious and beneficial portions of the seeds , is disclosed . in this process , the seed of interest is bombarded with an abrasive particulate , which is preferably entrained in a pressurized stream of gas , sufficient to create microperforations in the water resistant outer coat of said seed . these microperforations in the treated seed significantly increase the rate of hydration of the seed and hence decrease cooking time accordingly . moreover , this process effects improved hydration without removing any significant portions of the outer coat or layers of the seed which lie underneath the outer coat .</td>\n",
       "    </tr>\n",
       "    <tr>\n",
       "      <th>4</th>\n",
       "      <td>in a preferred embodiment the administration form according to the present invention is mucoadhesive and may have a polymer matrix that serves as an active substance reservoir and has mucoadhesive properties . the administration form may in the simplest case consist of a single layer or it may comprise a plurality of layers . in the case of a multilayer structure at least one of the layers contains an active substance and at least one layer or at least one surface of the administration form possesses mucoadhesive properties . the polymer matrix of a mucoadhesive administration form preferably contains one or more polymers that are water soluble and or capable of swelling in aqueous media . by selecting such polymers it is possible to influence the mucoadhesive properties and the release behaviour . in another preferred embodiment the inventive administration form also including the mucoadhesive embodiment is configured so as to be disintegratable . these pharmaceutical preparations comprise a matrix which is disintegratable in aqueous media the matrix being formed of at least one matrix forming polymer and containing at least one active substance dissolved or dispersed therein . an essential feature of this embodiment consists in that after having been introduced in an aqueous medium or in body fluids it disintegrates rapidly that is the disintegration process is substantially completed within 15 minutes provided that the pharmaceutical form was surrounded during this time by an aqueous medium e . g . a body fluid . according to preferred embodiments of the invention the pharmaceutical forms are configured such that they disintegrate within 3 minutes and with particular preference within 60 seconds following their introduction into an aqueous medium . following application of the pharmaceutical product to the surface of a mucous membrane and its adherence thereto the pharmaceutical product begins to disintegrate upon action of moisture or of the surrounding aqueous medium e . g . body fluids . for example by forming a gel or a solution . simultaneously the active substance contained in the pharmaceutical product is released and can now be absorbed directly via the mucous membrane in question e . g . the oral mucosa . the mucoadhesive properties and or the disintegration properties are determined essentially by the type of the matrix forming polymer polymers as well as by the relative portions of these polymers in the preparation . suitable as matrix forming polymers which can be components of a formulation according to the invention are preferably the following water soluble or at least partially water soluble polymers not excluding any other suitable raw materials : polyvinyl alcohol e . g . mowiol . cellulose derivatives such as hydroxypropyl methyl cellulose hydroxypropyl cellulose sodium carboxymethyl cellulose e . g . walocel methyl cellulose hydroxyethyl cellulose and hydroxypropyl ethyl cellulose . starch and starch derivatives . gelatine various types . polyvinyl pyrrolidones . gum arabic . pullulan . acrylates . in addition polymers from the following group are particularly suitable as water soluble or swellable polymers : dextran . cellulose derivatives such as carboxymethyl cellulose and ethyl or propyl cellulose . polyacrylic acid polyacrylates polyethylene oxide polymers polyacrylamides polyethylene glycol collagen alginates pectins tragacanth chitosan alginic acid arabinogalactan galactomannan agar agar agarose carrageenan and natural gums . the polymer portion contained in an administration form of the invention preferably amounts to 5 to 95 wt . especially preferably 15 to 75 wt . relative to the dry mass of the administration form . the film like preparations are advantageously suitable as administration forms for administering pharmaceutical active substances . therefore according to a preferred embodiment such a preparation contains a pharmaceutical active substance or a combination of two or more pharmaceutically active substances . the active agent s may be present in dissolved dispersed suspended or emulsified form . optionally further releasable substances may be contained such as aroma substances or sweeteners . suitable as active substances are those compounds which are therapeutically effective in humans or animals without exclusion of any other compounds . such compounds may come from the following groups : agents for treating infections . virostatics . analgesics such as fentanyl sufentanil buprenorphine . anaesthetics . anorectics . active agents for treating arthritis and asthma such as terbutaline . anticonvulsives . antidepressives . antidiabetics . antihistaminics . antidiarrhoeal agents . agents active against migraine itching nausea and retching travelling sickness or sea sickness such as scopolamine and ondansetron . antineoplastic agents . anti parkinson agents . antipsychotics . antipyretics . antispasmodics . anticholinergics . agents active against ulcer such as ranitidine . sympathomimetics . calcium channel blockers such as nifedipine . beta blockers . beta agonists such as dobutamine and ritodrine . anti arrhythmic agents . antihypertonics such as atenolol . ace inhibitors such as enalapril . benzodiazepine agonists such as flumazenil . coronary peripheral and cerebral vasodilators . stimulants of the central nervous system . hormones . hypnotics . immunosuppressants . muscle relaxants . prostaglandins . proteins . peptides . psychostimulants . sedatives . tranquilizers . furthermore suitable active substances are found in the active substance groups of the parasympatholytics e . g . scopolamine atropine berlactyzine the parasympathomimetics the cholinergics e . g . physostigmine nicotine the neuroleptics e . g . chlorpromazine haloperidol the monoamine oxidase inhibitors e . g . tranylcypromine selegiline the sympathomimetics e . g . ephedrine d norpseudoephedrine salbutamol fenfluramine the sympatholytics and antisympathotonic agents e . g . propranolol timolol bupranolol clonidine dihydroergotamine naphazoline the anxiolytics e . g . diazepam triazolam the local anaesthetics e . g . lidocaine the central analgesics e . g . fentanyl sufentanil the antirheumatics e . g . indomethacin piroxicam lornoxicam the coronary therapeutics e . g . glycerol trinitrate isosorbide dinitrate the estrogens gestagens and androgens the antihistaminics e . g . diphenhydramine clemastine terfenadine the prostaglandin derivatives the vitamins e . g . vitamin e cholecalciferol the cytostatics and the cerebroactive glycosides such as digitoxin and digoxin for example . the active substance content preferably amounts to 0 . 1 to 50 wt especially preferably 0 . 5 to 20 wt . relative to the dry mass of the administration form . a single administration form preferably contains 0 . 5 to 20 mg especially preferably 1 to 10 mg of active substance . the administration forms according to the invention may optionally contain one or more additives from the following groups : fillers colourants flavourings aroma substances fragrant substances emulsifiers plasticizers sweeteners preservatives permeation enhancing substances and antioxidants . substances suitable for this purpose are in principle known to those skilled in the art . addition of flavourings fragrant substances and aroma substances either alone or in combination is particularly advantageous since this increases acceptance of the pharmaceutical preparation in the case of direct oral application . it is for example possible to improve the taste impression by adding a refreshing flavouring agent e . g . menthol eucalyptol . an unpleasant smell or taste caused by the medicinal active agent can be covered by adding a suitable flavouring or aroma substance . at the same time this enables a person to take the medicament in an inconspicuous manner since it smells like a refreshing sweet . this additionally contributes to improved compliance . particularly suitable are for instance flavouring agents and aroma substances from the group comprising menthol eucalyptol limonene phenyl ethanol camphene pinene seasoning aromas such as n butyl phthalide or cineol as well as eucalyptus and thyme oil methyl salicylate turpentine oil camomile oil ethyl vanillin 6 methyl coumarin citronellol and acetic acid n butyl ester . in the veterinary field in particular it is possible to take into account the known preferences of the treated animals when selecting aroma substances . it is for example known that cheese cream and valerian aromas can be advantageously used in pharmaceutical preparations that are intended to be administered to cats . in addition meat sausage and fish aromas can be advantageously used in order to increase an animal 39 . s readiness to take a medical preparation orally . for certain groups of animals however fruit or herb aromas such as banana strawberry mint cocoa nut or coffee flavours are particularly suitable . mixtures of various flavours may likewise be used . the film shaped preparations of the invention may however also be used only to release one or more aroma substances such as menthol or lemon aroma in the oral cavity that is without a pharmaceutical active substance being necessarily contained in the preparation . the content of aroma substance s is preferably 0 . 1 to 20 wt . especially preferably 1 to 10 wt . always relative to the dry mass of the film shaped administration form . substances from the following groups may advantageously be used as further auxiliary substances : filling agents such as sio 2 . colourants such as quinoline yellow or tio 2 . disintegrants or wicking agents which draw water into the matrix and burst the matrix from within such as aerosil . emulsifiers such as tween polyethoxylated sorbitan fatty acid esters brij polyethoxylated fatty alcohols . sweeteners such as aspartame sodium cyclamate and or saccharine . plasticizers such as peg polyethylene glycol or glycerine . preservatives such as for example sorbic acid or its salts . the proportion of these adjuvants may amount to up to 30 wt . preferably 1 to 20 wt . in each case relative to the dry mass of the administration form . according to a preferred embodiment the preparations according to the invention contain at least one aroma substance and or at least one sweetener and or at least one plasticizer . the total thickness of the preparations of the invention particularly of the wafers is preferably 5 m to 10 mm more preferably 50 m to 2 mm and especially preferably 0 . 1 mm to 1 mm . to avoid any foreign body sensation the layer thickness of the mucoadhesive embodiments should be as small as possible preferably smaller than 0 . 2 mm . the wafers may advantageously be of round oval elliptical triangular rectangular or polygonal shape but they may also be of any rounded shape . the above mentioned wafers are comparatively dense bodies and are preferably of a density between 0 . 3 g cm 3 and 1 . 7 g cm 3 especially preferably between 0 . 5 g cm 3 and 1 . 5 g cm 3 and most preferably between 0 . 7 g cm 3 and 1 . 3 g cm 3 . to achieve specific effects the administration forms of the invention may be made up of two or more layers . the individual layers may differ from one another in respect of one or more of the following parameters : polymer composition active substance content active substance concentration content of additives . the surface of the preparations of the invention is typically smooth . it may however be advantageous to provide the surface with elevations and depressions e . g . in form of naps or grooves . the invention also encompasses preparations of the above mentioned type which are present in the form of thin solid foams . wafers in the form of thin foams are advantageous since they quickly adhere on account of their large specific surface but also disintegrate quickly . the density of these solidified foams is preferably between 0 . 01 g cm 3 and 0 . 8 g cm 3 especially preferably between 0 . 08 g cm 3 and 0 . 4 g cm 3 and most preferably between 0 . 1 g cm 3 and 0 . 3 g cm 3 . the calculation of the density is based on the volume filled or enclosed by the entire body of the foam . in the context of the present invention the term aqueous media is understood to mean in particular : water aqueous solutions suspensions dispersions aqueous solvent mixtures as well as physiological liquids and body fluids e . g . secretory products of the body saliva mucus . an adhesive preparation for transbuccal release of an active substance was tested within the framework of a project in veterinary medicine . the composition of the mucoadhesive preparation which is indicated in table 1 was selected such that the preparation disintegrates in an aqueous medium within a few minutes and forms an adhesive gel . the original ph value of the base mass for this preparation was 5 . 3 . after application of this preparation to the oral mucosa of horses rather substantial skin irritations occurred with delays in time . application of a preparation of the same composition and wherein the ph of the base mass had been raised to 6 . 1 led to no or only very slight irritations of the mucosa in the treated horses . thus by raising the ph value of the base mass it was possible to reduce or prevent irritation of the mucosa . the degree of skin irritation correlated with the ph of the polymer mass used to prepare the preparation and thereby with the difference between the ph value of the polymer mass and the physiological ph value of the oral mucosa . what has been described above are preferred aspects of the present invention . it is of course not possible to describe every conceivable combination of components or methodologies for purposes of describing the present invention but one of ordinary skill in the art will recognize that many further combinations and permutations of the present invention are possible . accordingly the present invention is intended to embrace all such alterations combinations modifications and variations that fall within the spirit and scope of the appended claims .</td>\n",
       "      <td>the present invention relates to film - shaped administration forms for transmucosal administration of active substances to the human or animal body . the administration forms are characterized by an adaptation or approximation of the ph value of the base mass intended for the production of the administration form to the physiological ph value of the mucosa to which the administration form is to be applied , said base mass comprising a solvent or a mixture of solvents , at least one matrix - forming polymer and at least one active substance . the invention further comprises a process for the production of such preparations , and the use thereof as administration forms , particularly for pharmaceutical active substances , such that when the resultant administration forms are used , an irritation of the mucous membrane is reduced or even prevented .</td>\n",
       "    </tr>\n",
       "  </tbody>\n",
       "</table>"
      ],
      "text/plain": [
       "<IPython.core.display.HTML object>"
      ]
     },
     "metadata": {},
     "output_type": "display_data"
    }
   ],
   "source": [
    "show_random_elements(dataset1[\"train\"])"
   ]
  },
  {
   "cell_type": "code",
   "execution_count": 25,
   "metadata": {},
   "outputs": [],
   "source": [
    "# show_random_elements(dataset1[\"train\"])"
   ]
  },
  {
   "attachments": {},
   "cell_type": "markdown",
   "metadata": {},
   "source": [
    "PreProcessing"
   ]
  },
  {
   "cell_type": "code",
   "execution_count": 9,
   "metadata": {},
   "outputs": [],
   "source": [
    "# from transformers import AutoTokenizer\n",
    "# model_checkpoint = \"t5-small\"\n",
    "    \n",
    "# tokenizer = AutoTokenizer.from_pretrained(model_checkpoint)"
   ]
  },
  {
   "cell_type": "code",
   "execution_count": 10,
   "metadata": {},
   "outputs": [
    {
     "data": {
      "text/plain": [
       "{'input_ids': [8774, 6, 48, 80, 7142, 55, 1], 'attention_mask': [1, 1, 1, 1, 1, 1, 1]}"
      ]
     },
     "execution_count": 10,
     "metadata": {},
     "output_type": "execute_result"
    }
   ],
   "source": [
    "# tokenizer(\"Hello, this one sentence!\")"
   ]
  },
  {
   "cell_type": "code",
   "execution_count": 26,
   "metadata": {},
   "outputs": [],
   "source": [
    "from transformers import AutoTokenizer, LongT5ForConditionalGeneration\n"
   ]
  },
  {
   "cell_type": "code",
   "execution_count": 17,
   "metadata": {},
   "outputs": [
    {
     "data": {
      "application/vnd.jupyter.widget-view+json": {
       "model_id": "403c2b8a27aa4b6a8b4d8ab7797f8aaf",
       "version_major": 2,
       "version_minor": 0
      },
      "text/plain": [
       "Downloading (…)lve/main/config.json:   0%|          | 0.00/853 [00:00<?, ?B/s]"
      ]
     },
     "metadata": {},
     "output_type": "display_data"
    },
    {
     "name": "stderr",
     "output_type": "stream",
     "text": [
      "d:\\UCDPROJECT\\Local\\venv\\Transformerv1\\lib\\site-packages\\huggingface_hub\\file_download.py:133: UserWarning: `huggingface_hub` cache-system uses symlinks by default to efficiently store duplicated files but your machine does not support them in C:\\Users\\ACER\\.cache\\huggingface\\hub. Caching files will still work but in a degraded version that might require more space on your disk. This warning can be disabled by setting the `HF_HUB_DISABLE_SYMLINKS_WARNING` environment variable. For more details, see https://huggingface.co/docs/huggingface_hub/how-to-cache#limitations.\n",
      "To support symlinks on Windows, you either need to activate Developer Mode or to run Python as an administrator. In order to see activate developer mode, see this article: https://docs.microsoft.com/en-us/windows/apps/get-started/enable-your-device-for-development\n",
      "  warnings.warn(message)\n"
     ]
    },
    {
     "data": {
      "application/vnd.jupyter.widget-view+json": {
       "model_id": "9109265147714409b560fce632889afe",
       "version_major": 2,
       "version_minor": 0
      },
      "text/plain": [
       "Downloading pytorch_model.bin:   0%|          | 0.00/3.13G [00:00<?, ?B/s]"
      ]
     },
     "metadata": {},
     "output_type": "display_data"
    }
   ],
   "source": [
    "model = (\n",
    "    LongT5ForConditionalGeneration.from_pretrained(\"Stancld/longt5-tglobal-large-16384-pubmed-3k_steps\")\n",
    "    .to(\"cuda\")\n",
    "    .half()\n",
    ")"
   ]
  },
  {
   "cell_type": "code",
   "execution_count": 18,
   "metadata": {},
   "outputs": [
    {
     "data": {
      "application/vnd.jupyter.widget-view+json": {
       "model_id": "a172d90ef0d140099954e979cb76255f",
       "version_major": 2,
       "version_minor": 0
      },
      "text/plain": [
       "Downloading (…)okenizer_config.json: 0.00B [00:00, ?B/s]"
      ]
     },
     "metadata": {},
     "output_type": "display_data"
    },
    {
     "data": {
      "application/vnd.jupyter.widget-view+json": {
       "model_id": "5dfbd3008ea0452eb62e5fa3211440ca",
       "version_major": 2,
       "version_minor": 0
      },
      "text/plain": [
       "Downloading (…)/main/tokenizer.json: 0.00B [00:00, ?B/s]"
      ]
     },
     "metadata": {},
     "output_type": "display_data"
    },
    {
     "data": {
      "application/vnd.jupyter.widget-view+json": {
       "model_id": "3e751240d3b047019cb82962be274e7a",
       "version_major": 2,
       "version_minor": 0
      },
      "text/plain": [
       "Downloading (…)cial_tokens_map.json: 0.00B [00:00, ?B/s]"
      ]
     },
     "metadata": {},
     "output_type": "display_data"
    }
   ],
   "source": [
    "tokenizer = AutoTokenizer.from_pretrained(\"Stancld/longt5-tglobal-large-16384-pubmed-3k_steps\")"
   ]
  },
  {
   "cell_type": "code",
   "execution_count": 27,
   "metadata": {},
   "outputs": [],
   "source": [
    "# !pip install accelerate nvidia-ml-py3"
   ]
  },
  {
   "cell_type": "code",
   "execution_count": 28,
   "metadata": {},
   "outputs": [],
   "source": [
    "# #Generating GPU Summary\n",
    "# from pynvml import *\n",
    "\n",
    "\n",
    "# def print_gpu_utilization():\n",
    "#     nvmlInit()\n",
    "#     handle = nvmlDeviceGetHandleByIndex(0)\n",
    "#     info = nvmlDeviceGetMemoryInfo(handle)\n",
    "#     print(f\"GPU memory occupied: {info.used//1024**2} MB.\")\n",
    "\n",
    "\n",
    "# def print_summary(result):\n",
    "#     print(f\"Time: {result.metrics['train_runtime']:.2f}\")\n",
    "#     print(f\"Samples/second: {result.metrics['train_samples_per_second']:.2f}\")\n",
    "#     print_gpu_utilization()"
   ]
  },
  {
   "cell_type": "code",
   "execution_count": null,
   "metadata": {},
   "outputs": [],
   "source": []
  },
  {
   "cell_type": "code",
   "execution_count": 29,
   "metadata": {},
   "outputs": [],
   "source": [
    "# print_gpu_utilization()"
   ]
  },
  {
   "cell_type": "code",
   "execution_count": null,
   "metadata": {},
   "outputs": [],
   "source": []
  },
  {
   "cell_type": "code",
   "execution_count": null,
   "metadata": {},
   "outputs": [],
   "source": []
  },
  {
   "cell_type": "code",
   "execution_count": 23,
   "metadata": {},
   "outputs": [],
   "source": [
    "def generate_answers(batch):\n",
    "    inputs_dict = tokenizer(\n",
    "        batch[\"text\"], max_length=16384, padding=\"max_length\", truncation=True, return_tensors=\"pt\"\n",
    "    )\n",
    "    input_ids = inputs_dict.input_ids.to(\"cuda\")\n",
    "    attention_mask = inputs_dict.attention_mask.to(\"cuda\")\n",
    "    output_ids = model.generate(input_ids, attention_mask=attention_mask, max_length=512, num_beams=2)\n",
    "    batch[\"predicted_abstract\"] = tokenizer.batch_decode(output_ids, skip_special_tokens=True)\n",
    "    return batch"
   ]
  },
  {
   "cell_type": "code",
   "execution_count": null,
   "metadata": {},
   "outputs": [],
   "source": [
    "result = dataset.map(generate_answers, batched=True, batch_size=1)"
   ]
  }
 ],
 "metadata": {
  "kernelspec": {
   "display_name": "Python 3",
   "language": "python",
   "name": "python3"
  },
  "language_info": {
   "codemirror_mode": {
    "name": "ipython",
    "version": 3
   },
   "file_extension": ".py",
   "mimetype": "text/x-python",
   "name": "python",
   "nbconvert_exporter": "python",
   "pygments_lexer": "ipython3",
   "version": "3.8.0"
  },
  "orig_nbformat": 4
 },
 "nbformat": 4,
 "nbformat_minor": 2
}
